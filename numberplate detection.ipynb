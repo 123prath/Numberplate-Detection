{
 "cells": [
  {
   "cell_type": "code",
   "execution_count": 1,
   "metadata": {},
   "outputs": [],
   "source": [
    "import pytesseract \n",
    "import cv2 \n",
    "from pytesseract import Output "
   ]
  },
  {
   "cell_type": "code",
   "execution_count": 2,
   "metadata": {},
   "outputs": [],
   "source": [
    "# give path to pytesseract with tesseract location \n",
    "pytesseract.pytesseract.tesseract_cmd='C:/Program Files/Tesseract-OCR/tesseract.exe'"
   ]
  },
  {
   "cell_type": "code",
   "execution_count": 4,
   "metadata": {},
   "outputs": [],
   "source": [
    "image=cv2.imread(\"swift1.jpg\")\n",
    "# Pytesseract not using BGR format image so we need to convert it into rgb format\n",
    "rgb=cv2.cvtColor(image,cv2.COLOR_BGR2RGB)"
   ]
  },
  {
   "cell_type": "code",
   "execution_count": 5,
   "metadata": {},
   "outputs": [
    {
     "data": {
      "text/plain": [
       "(133, 487, 3)"
      ]
     },
     "execution_count": 5,
     "metadata": {},
     "output_type": "execute_result"
    }
   ],
   "source": [
    "image.shape"
   ]
  },
  {
   "cell_type": "code",
   "execution_count": 6,
   "metadata": {},
   "outputs": [],
   "source": [
    "results=pytesseract.image_to_data(rgb,output_type=Output.DICT)"
   ]
  },
  {
   "cell_type": "code",
   "execution_count": 7,
   "metadata": {},
   "outputs": [
    {
     "data": {
      "text/plain": [
       "{'level': [1, 2, 3, 4, 5, 2, 3, 4, 5],\n",
       " 'page_num': [1, 1, 1, 1, 1, 1, 1, 1, 1],\n",
       " 'block_num': [0, 1, 1, 1, 1, 2, 2, 2, 2],\n",
       " 'par_num': [0, 0, 1, 1, 1, 0, 1, 1, 1],\n",
       " 'line_num': [0, 0, 0, 1, 1, 0, 0, 1, 1],\n",
       " 'word_num': [0, 0, 0, 0, 1, 0, 0, 0, 1],\n",
       " 'left': [0, 24, 24, 24, 24, 33, 27, 33, 33],\n",
       " 'top': [0, 12, 12, 12, 12, 16, 16, 16, 16],\n",
       " 'width': [487, 334, 334, 334, 334, 450, 456, 450, 450],\n",
       " 'height': [133, 5, 5, 5, 5, 103, 103, 103, 103],\n",
       " 'conf': ['-1', '-1', '-1', '-1', 95, '-1', '-1', '-1', 38],\n",
       " 'text': ['', '', '', '', ' ', '', '', '', '“HR26DK8337|']}"
      ]
     },
     "execution_count": 7,
     "metadata": {},
     "output_type": "execute_result"
    }
   ],
   "source": [
    "results"
   ]
  },
  {
   "cell_type": "code",
   "execution_count": 8,
   "metadata": {},
   "outputs": [
    {
     "name": "stdout",
     "output_type": "stream",
     "text": [
      "Text is   and Confidence: 95\n",
      "Text is “HR26DK8337| and Confidence: 38\n"
     ]
    },
    {
     "data": {
      "text/plain": [
       "-1"
      ]
     },
     "execution_count": 8,
     "metadata": {},
     "output_type": "execute_result"
    }
   ],
   "source": [
    "# loop over each of the individual text localization \n",
    "for i in range(0,len(results[\"text\"])):\n",
    "    #extract the bounding box cooredinates of the text \n",
    "    # as current result \n",
    "    x=results[\"left\"][i]\n",
    "    y=results[\"top\"][i]\n",
    "    w=results[\"width\"][i]\n",
    "    h=results[\"height\"][i]\n",
    "    \n",
    "    #extract ocr text itself along with the confidence (how much accurate it is)\n",
    "    #text localization \n",
    "    text=results[\"text\"][i]\n",
    "    conf=int(results[\"conf\"][i])\n",
    "    \n",
    " # display the confidence and text to our terminal\n",
    "    if conf>-1:\n",
    "        print(\"Text is {} and Confidence: {}\".format(text,conf))\n",
    "        text=\"\".join([c if ord(c)<128 else \"\" for c in text]).strip()\n",
    "        cv2.rectangle(image,(x,y),(x+w,y+h),(0, 255, 0), 2)\n",
    "        cv2.putText(image,text,(x,y+10),cv2.FONT_HERSHEY_SIMPLEX,\n",
    "                    1.0, (0, 0, 255), 2)\n",
    "        f = open(\"study.txt\",\"a\")\n",
    "        f.write(\"{} \".format(text))\n",
    "        f.close()\n",
    "        \n",
    "cv2.imshow(\"image\",image)\n",
    "cv2.waitKey(0)"
   ]
  },
  {
   "cell_type": "code",
   "execution_count": null,
   "metadata": {},
   "outputs": [],
   "source": []
  },
  {
   "cell_type": "code",
   "execution_count": null,
   "metadata": {},
   "outputs": [],
   "source": []
  }
 ],
 "metadata": {
  "kernelspec": {
   "display_name": "Python 3",
   "language": "python",
   "name": "python3"
  },
  "language_info": {
   "codemirror_mode": {
    "name": "ipython",
    "version": 3
   },
   "file_extension": ".py",
   "mimetype": "text/x-python",
   "name": "python",
   "nbconvert_exporter": "python",
   "pygments_lexer": "ipython3",
   "version": "3.8.5"
  }
 },
 "nbformat": 4,
 "nbformat_minor": 4
}
